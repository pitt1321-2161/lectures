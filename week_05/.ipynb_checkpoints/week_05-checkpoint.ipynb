{
 "cells": [
  {
   "cell_type": "markdown",
   "metadata": {},
   "source": [
    "# Computational methods in Physics\n",
    "## Week 5\n",
    "#### Prof. Michael Wood-Vasey\n",
    "##### [based on materials from Prof. Brian D'Urso]\n",
    "##### University of Pittsburgh, Department of Physics and Astronomy"
   ]
  },
  {
   "cell_type": "markdown",
   "metadata": {},
   "source": [
    "## Numerical Differentiation\n",
    "\n",
    "### Numerical Differentiation\n",
    "We know how to integrate numerically, how about differentiating?\n",
    "\n",
    "* Numerical derivatives are even easier than integrals!\n",
    "* Go back to definition of derivative:\n",
    "$$\n",
    "f^\\prime (x) = \\frac{d}{dx}f(x) = \\lim_{\\epsilon\\to 0} \\frac{f(x+\\epsilon)-f(x)}{\\epsilon}\n",
    "$$\n",
    "* As with integration, use finite $\\epsilon$ instead of $\\epsilon\\to 0$.\n",
    "* This will give us another piece of the puzzle for solving differential equations (ODEs and PDEs) numerically."
   ]
  },
  {
   "cell_type": "markdown",
   "metadata": {},
   "source": [
    "### Forward Difference Method\n",
    "\n",
    "* Start with the forward difference operator $D_f\\left[f(x), h\\right]$:\n",
    "$$\n",
    "f^\\prime(x) \\simeq D_f\\left[f(x), h\\right] = \\frac{f(x+h)-f(x)}{h}\n",
    "$$\n",
    "* Compare to the Taylor expansion of $f(x+h)$:\n",
    "$$\n",
    "f(x+h) = f(x) + h f^\\prime(x) + \\frac{h^2}{2} f^{\\prime\\prime}(x) + \\cdots\n",
    "$$\n",
    "* By comparison, we see:\n",
    "$$\n",
    "D_f\\left[f(x), h\\right] = f^\\prime(x) + \\frac{h}{2} f^{\\prime\\prime}(x) + \\cdots\n",
    "\\approx f^\\prime(x) + \\mathcal{O}(h)\n",
    "$$\n",
    "* So, the error scales as $h$."
   ]
  },
  {
   "cell_type": "markdown",
   "metadata": {},
   "source": [
    "### Forward Difference Example\n",
    "\n",
    "* Consider the function: $f(x) = a + b x^2$\n",
    "* The exact derivative is $f^\\prime(x) = 2 b x$\n",
    "* Applying the Forward Difference Approximation gives:\n",
    "$$\n",
    "f^\\prime(x) \\simeq \\frac{f(x+h)-f(x)}{h} = 2 b x + b h\n",
    "$$\n",
    "* As expected, error $\\propto h \\Rightarrow$ need very small $h$."
   ]
  },
  {
   "cell_type": "markdown",
   "metadata": {},
   "source": [
    "### Improvement: Central Difference Method\n",
    "\n",
    "* Start with the same $h$, but make the difference symmetrical:\n",
    "$$\n",
    "f^\\prime(x) \\simeq D_{cd}\\left[f(x), h\\right] = \\frac{f(x+h/2)-f(x-h/2)}{h}\n",
    "$$\n",
    "* Again, by comparison with the Taylor series at $f(x \\pm h/2)$:\n",
    "$$\n",
    "D_{cd}\\left[f(x), h\\right] = f^\\prime(x) + \\frac{1}{24} h^2 f^{(3)}(x) + \\cdots\n",
    "\\approx f^\\prime(x) + \\mathcal{O}(h^2)\n",
    "$$\n",
    "* All even derivatives cancel.\n",
    "* Now the error $\\propto h^2$\\\\ (one order better than forward difference).\n",
    "* Exact for $f(x) = a + b x^2$.\n",
    "* Better rule $\\Rightarrow$ can use larger $h$."
   ]
  },
  {
   "cell_type": "markdown",
   "metadata": {},
   "source": [
    "### Extrapolated Difference Method\n",
    "\n",
    "* Consider the error in the central difference method:\n",
    "$$\n",
    "D_{cd}[f(x), h] \\simeq f^\\prime (x) + \\frac{1}{24}h^2 f^{\\prime\\prime\\prime}(x) + \\mathcal{O}(h^4)\n",
    "$$\n",
    "* Compare to:\n",
    "$$\n",
    "D_{cd}[f(x), h/2] \\simeq f^\\prime (x) + \\frac{1}{96}h^2 f^{\\prime\\prime\\prime}(x) + \\mathcal{O}(h^4)\n",
    "$$\n",
    "* Cancel the quadratic term using the difference between the two $\\Rightarrow$ *Extrapolated Difference Method*:\n",
    "$$\n",
    "D_{ed}[f(x), h] = \\frac{4 D_{cd}[f(x), h/2] - D_{cd}[f(x), h]}{3}\n",
    "\\approx f^\\prime (x) + \\frac{h^4 f^{(5)}(x)}{4\\times 16 \\times 120} + \\cdots\n",
    "$$"
   ]
  },
  {
   "cell_type": "markdown",
   "metadata": {},
   "source": [
    "### Second Derivatives\n",
    "\n",
    "* Start with the central difference method:\n",
    "$$\n",
    "f^\\prime(x) \\simeq D_{cd}\\left[f(x), h\\right] = \\frac{f(x+h/2)-f(x-h/2)}{h}\n",
    "$$\n",
    "* Apply central difference method twice:\n",
    "$$f^{\\prime\\prime}(x) \\approx D_{cd}[f^\\prime (x), h] \\approx D_{cd}\\left[D_{cd}[f(x), h], h\\right]  $$\n",
    "$$                    \\approx \\frac{f^\\prime(x+h/2)-f^\\prime(x-h/2)}{h}$$  \n",
    "$$                    \\approx \\frac{[f(x+h)-f(x)]-[f(x)-f(x-h)]}{h^2}  $$\n",
    "$$                    \\approx \\frac{f(x+h)-2 f(x)+f(x-h)}{h^2}  $$\n"
   ]
  },
  {
   "cell_type": "markdown",
   "metadata": {},
   "source": [
    "## Root Finding\n",
    "\n",
    "### Root Finding\n",
    "How can we use numerical techniques to solve $f(x)=0$ for $x$?  \n",
    "We will use 3 methods:\n",
    "\n",
    "* Bisection method:\n",
    "repeated bracketing.\n",
    "* Newton-Raphson method:\n",
    "linear approximation with analytical derivative.\n",
    "* Secant method:\n",
    "linear approximation with numerical derivative."
   ]
  },
  {
   "cell_type": "markdown",
   "metadata": {},
   "source": [
    "### Bisection Method\n",
    "There is little more than repeated bracketing to our first root-finding method, bisection:\n",
    "1. Start with the initial bracket $\\left[x_1^{(1)}, x_2^{(1)}\\right]$ with $f\\left(x_1^{(1)}\\right)f\\left(x_2^{(1)}\\right) < 0$.\n",
    "Assume $x_1^{(1)} < x_2^{(1)}$ without loss of generality.\n",
    "2. Guess the location of the root as the midpoint:\n",
    "$x_0^{(1)}=\\left(x_1^{(1)}+x_2^{(1)}\\right)/2$.\n",
    "3. If $f\\left(x_0^{(1)}\\right)$ has the same sign as $f\\left(x_1^{(1)}\\right)$,\\\\\n",
    "set the new bracket to $\\left[x_1^{(2)}, x_2^{(2)}\\right]=\\left[x_0^{(1)}, x_2^{(1)}\\right]$,\\\\\n",
    "else set it to $\\left[x_1^{(2)}, x_2^{(2)}\\right]=\\left[x_1^{(1)}, x_0^{(1)}\\right]$.\n",
    "4. The location of the root is now known to precision $\\left|x_1^{(2)}-x_2^{(2)}\\right|$. If this is not satifactory, go back to step 2 to obtain the next bracket $\\left[x_1^{(3)}, x_2^{(3)}\\right]$."
   ]
  },
  {
   "cell_type": "markdown",
   "metadata": {},
   "source": [
    "### Bisection Method (2)\n",
    "![Bisection Illustration](figures/bisection.png)"
   ]
  },
  {
   "cell_type": "markdown",
   "metadata": {},
   "source": [
    "### Bisection Method (3)\n",
    "\n",
    "* For continuous functions, this method is guaranteed to converge to the root.\n",
    "* At each step, the error is halved.\n",
    "* The method is said to be linearly convergent, because the number of correct digits in the answer (the location of the root) grows linearly with the number of iterations (one decimal digit every $\\log_2(10)$ iterations)."
   ]
  },
  {
   "cell_type": "markdown",
   "metadata": {},
   "source": [
    "### Newton-Raphson Method\n",
    "The idea of the Newton-Raphson method is to use information about the derivative of the function to guide the choice of a sequence of points converging to the root.\n",
    "1. Start from the initial guess $x^{(1)}$.\n",
    "2. Approximate the function around $x^{(1)}$ by the fist two terms of its Taylor expansion\n",
    "(i.e., as the straight line through $\\left[x^{(1)}, f\\left(x^{(1)}\\right)\\right]$ with the same slope as the curve $f(x)$):\n",
    "$f(x)\\approx f\\left(x^{(1)}\\right) + f^\\prime \\left(x-x^{(1)}\\right) + \\cdots$.\n",
    "An approximate guess ($x^{(2)}$) for the root is obtained by setting $f(x) = 0$, yielding\n",
    "$x^{(2)} = x^{(1)} - \\frac{f\\left(x^{(1)}\\right)}{f^\\prime\\left(x^{(1)}\\right)}$.\n",
    "3. Compare the value of $f\\left(x^{(1)}\\right)$ with a predetermined tolerance to decide whether to stop or go back to step 2 and obtain $x^{(3)}$."
   ]
  },
  {
   "cell_type": "markdown",
   "metadata": {},
   "source": [
    "### Newton-Raphson Method (2)\n",
    "![Newton-Raphson Illustration](figures/newtons.png)"
   ]
  },
  {
   "cell_type": "markdown",
   "metadata": {},
   "source": [
    "### Newton-Raphson Method (3)\n",
    "\n",
    "* If the function is sufficiently linear near the last guess, $x^{(last)}$,\n",
    "the precision of the location of the root is approximately $\\left|f\\left(x^{(last)}\\right)/f^\\prime\\left(x^{(last)}\\right)\\right|$.\n",
    "* The advantage of this method is that it converges quadratically.\n",
    "The number of correct digits in the answer approximately doubles with each iteration.\n",
    "* This method is not guaranteed to converge.\n",
    "A local extremum will send the next guess towards infinity.\n",
    "* Possible to combine methods by bracketing.\n",
    "Use bisection if Newton-Raphson goes outside bracketed range."
   ]
  },
  {
   "cell_type": "markdown",
   "metadata": {},
   "source": [
    "### Secant Method\n",
    "\n",
    "* The secant method is a close relative of the Newton-Raphson method.\n",
    "* Does not require the explicit knowledge of the derivative $f^\\prime(x)$.\n",
    "* Derivative is approximated by tracing a straight line through the last two points examined.\n",
    "* Converges more slowly than Newton-Raphson.\n",
    "Order of convergence is the golden ratio: $\\phi = 1.618\\cdots$.\n",
    "Number of correct digits is multiplied by $\\phi$ at each iteration.\n",
    "* Similar weaknesses to Newton-Raphson."
   ]
  },
  {
   "cell_type": "markdown",
   "metadata": {},
   "source": [
    "### Secant Method (2)\n",
    "![Secant Illustration](figures/secant.png)"
   ]
  },
  {
   "cell_type": "markdown",
   "metadata": {},
   "source": [
    "### Secant Method (3)\n",
    "1. Start from two initial guesses, $x^{(1)}$ and $x^{(2)}$.\n",
    "2. Approximate the derivative at $x^{(2)}$ by the slope of the line that joins $\\left[x^{(1)}, f\\left(x^{(1)}\\right)\\right]$ to $\\left[x^{(2)}, f\\left(x^{(2)}\\right)\\right]$:\n",
    "$f^\\prime\\left(x^{(2)}\\right) = \\frac{f\\left(x^{(2)}\\right)-f\\left(x^{(1)}\\right)}{x^{(2)}-x^{(1)}}$.\n",
    "* Take a Newton-Raphson step to find $x^{(3)}$:\n",
    "$x^{(3)} = x^{(2)}-f\\left(x^{(2)}\\right)\\frac{x^{(2)}-x^{(1)}}{f\\left(x^{(2)}\\right)-f\\left(x^{(1)}\\right)}$.\n",
    "3. Compare $f\\left(x^{(3)}\\right)$ with the tolerance to decide whether to continue the iteration.\n",
    "If needed, repeat step 2 to get the next value with:\n",
    "$x^{(i)} = x^{(i-1)}-f\\left(x^{(i-1)}\\right)\\frac{x^{(i-1)}-x^{(i-2)}}{f\\left(x^{(i-1)}\\right)-f\\left(x^{(i-2)}\\right)}$.\n",
    "Estimate precision as in the Newton-Raphson method."
   ]
  },
  {
   "cell_type": "markdown",
   "metadata": {},
   "source": [
    "### Newton-Raphson Method Implementation\n"
   ]
  },
  {
   "cell_type": "code",
   "execution_count": 2,
   "metadata": {
    "collapsed": false
   },
   "outputs": [],
   "source": [
    "def Newton(f, dfdx, x, eps=1.0E-7, N=100):\n",
    "    for n in range(N):\n",
    "        y = f(x)\n",
    "        print (x, y, n)\n",
    "        if abs(y) < eps: break\n",
    "        x -= y/dfdx(x)\n",
    "        return x, y, n"
   ]
  },
  {
   "cell_type": "markdown",
   "metadata": {},
   "source": [
    "Note: `f` and `dfdx` are functions which return the value and derivative of the function of which you want to find a root."
   ]
  },
  {
   "cell_type": "markdown",
   "metadata": {},
   "source": [
    "### Newton-Raphson Method Example\n",
    "Solve $\\sin(x)-0.75=0$"
   ]
  },
  {
   "cell_type": "code",
   "execution_count": 3,
   "metadata": {
    "collapsed": false
   },
   "outputs": [
    {
     "name": "stdout",
     "output_type": "stream",
     "text": [
      "0.0 -0.75 0\n"
     ]
    },
    {
     "data": {
      "text/plain": [
       "(0.75, -0.75, 0)"
      ]
     },
     "execution_count": 3,
     "metadata": {},
     "output_type": "execute_result"
    }
   ],
   "source": [
    "import math\n",
    "\n",
    "def g(x):\n",
    "  return math.sin(x) - 0.75\n",
    "\n",
    "def dgdx(x):\n",
    "  return math.cos(x)\n",
    "\n",
    "Newton(g, dgdx, 0.0)\n"
   ]
  },
  {
   "cell_type": "markdown",
   "metadata": {},
   "source": [
    "### SciPy Root Finding Routines\n",
    "The SciPy optimize sub-package `scipy.optimize` provides several root-finding routines. An overview of the module is provided by the help command:\n",
    "```\n",
    "help(scipy.optimize)\n",
    "```\n",
    "Methods for finding roots of a given function object:\n",
    "\n",
    "* `brentq`: quadratic interpolation Brent method.\n",
    "* `brenth`: Brent method, modified by Harris with hyperbolic extrapolation.\n",
    "* `ridder`: Ridder's method.\n",
    "* `bisect`: Bisection method.\n",
    "* `newton`: Secant method or Newton's method."
   ]
  },
  {
   "cell_type": "markdown",
   "metadata": {},
   "source": [
    "### SciPy Root Finding Example\n",
    "You should write your own root finding routines for your assignment, but here is an example with SciPy functions for future reference:\n",
    "\n",
    "* Setup module and function to be integrated:"
   ]
  },
  {
   "cell_type": "code",
   "execution_count": 1,
   "metadata": {
    "collapsed": true
   },
   "outputs": [],
   "source": [
    "import scipy.optimize\n",
    "def f(x): return x**2 - 4.0\n"
   ]
  },
  {
   "cell_type": "markdown",
   "metadata": {},
   "source": [
    "* Find a root:"
   ]
  },
  {
   "cell_type": "code",
   "execution_count": null,
   "metadata": {
    "collapsed": true
   },
   "outputs": [],
   "source": [
    "scipy.optimize.newton(f, 0.5)"
   ]
  },
  {
   "cell_type": "markdown",
   "metadata": {},
   "source": [
    "* Or:"
   ]
  },
  {
   "cell_type": "code",
   "execution_count": null,
   "metadata": {
    "collapsed": true
   },
   "outputs": [],
   "source": [
    "scipy.optimize.bisect(f, 0.5, 3.0)"
   ]
  },
  {
   "cell_type": "markdown",
   "metadata": {},
   "source": [
    "\"Canned\" library routines are easy to use, but it's harder to tell what is going on in the calculation.  It's helpful to know the basics of how the algorithm might work to know what questions and what **tests** to write."
   ]
  },
  {
   "cell_type": "code",
   "execution_count": null,
   "metadata": {
    "collapsed": true
   },
   "outputs": [],
   "source": []
  }
 ],
 "metadata": {
  "kernelspec": {
   "display_name": "Python 3",
   "language": "python",
   "name": "python3"
  },
  "language_info": {
   "codemirror_mode": {
    "name": "ipython",
    "version": 3
   },
   "file_extension": ".py",
   "mimetype": "text/x-python",
   "name": "python",
   "nbconvert_exporter": "python",
   "pygments_lexer": "ipython3",
   "version": "3.4.3"
  }
 },
 "nbformat": 4,
 "nbformat_minor": 0
}
