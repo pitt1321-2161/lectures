{
 "cells": [
  {
   "cell_type": "markdown",
   "metadata": {},
   "source": [
    "# Computational methods in Physics\n",
    "## Week 4\n",
    "#### Prof. Michael Wood-Vasey\n",
    "##### [based on materials from Prof. Brian D'Urso]\n",
    "##### University of Pittsburgh, Department of Physics and Astronomy"
   ]
  },
  {
   "cell_type": "markdown",
   "metadata": {},
   "source": [
    "## Numerical Integration"
   ]
  },
  {
   "cell_type": "markdown",
   "metadata": {},
   "source": [
    "### Numerical Integration\n",
    "How do we calculate a definite integral numerically?\n",
    "* Go back to the Riemann definition of the integral:\n",
    "$$\n",
    "\\int_a^b f(x) \\, \\mathrm{d}x = \\lim_{n\\rightarrow\\infty} \\left[ \\sum_{i=1}^{n} \\frac{b-a}{n} f(x_i) \\right]\n",
    "$$\n",
    "with $x_i = a + i\\frac{b-a}{n}$.\n",
    "* To evaluate numerically, let $n = N \\neq \\infty$, rewrite as:\n",
    "$$\n",
    "\\int_a^b f(x) \\, \\mathrm{d}x \\simeq \\sum_{i=1}^{N} w_i \\, f(x_i) \n",
    "$$\n",
    "* For the simplest approach, ``box counting'':\n",
    "  - $x_i = a + i\\frac{b-a}{N}$ are equally spaced\\\\\n",
    "  - and $w_i=\\frac{b-a}{N}=h$ is just the width of each box."
   ]
  },
  {
   "cell_type": "markdown",
   "metadata": {},
   "source": [
    "### Simple Numerical Integration\n",
    "<img alt='Box Counting' src='figures/box_counting.png'>"
   ]
  },
  {
   "cell_type": "markdown",
   "metadata": {},
   "source": [
    "### Numerical Integration\n",
    "* Consider the function $f(x)$ to be interpolated as an $n^{th}$ order polynomial between the points $x_i$. Then:\n",
    "* $n=0$: a constant $\\Rightarrow$ ``box counting''\n",
    "* $n=1$: a line $\\Rightarrow$ trapezoidal rule\n",
    "* $n=2$: a parabola $\\Rightarrow$ Simpson's rule\n",
    "* $n=3$: cubic $\\Rightarrow$ Simpson's $\\frac{3}{8}$ rule\n",
    "* All ``quadrature rules'' take the form:\n",
    "$$\n",
    "\\int_a^b f(x) \\, \\mathrm{d}x \\simeq \\sum_{i=1}^{N} w_i \\, f(x_i) \n",
    "$$\n",
    "* The approaches above only vary in their choice of $w_i$.\n",
    "* More advanced approaches also move around the $x_i$."
   ]
  },
  {
   "cell_type": "markdown",
   "metadata": {},
   "source": [
    "### Trapezoidal Rule\n",
    "* If $f(x)$ is taken to be a straight line between\\\\\n",
    " $x_i$ and $x_{i+1}$, then:\n",
    "$$\n",
    "\\int_{x_i}^{x_{i+1}} f(x) \\, \\mathrm{d}x \\simeq h \\left[\\tfrac{1}{2} \\, f(x_i) + \\tfrac{1}{2} \\, f(x_{i+1})\\right] \n",
    "$$\n",
    "is the area of a single trapezoid.\n",
    "* Add up the area of all the trapezoids: \n",
    "$$\n",
    "\\int_a^b f(x) \\, \\mathrm{d}x & \\simeq \\sum_{i=1}^{N} w_i \\, f(x_i) \\\\\n",
    "& \\simeq \\tfrac{h}{2} f(x_1) + h f(x_2) + \\cdots + h f(x_{N-1}) + \\tfrac{h}{2} f(x_N)\n",
    "$$\n",
    "* So, the weights are:\n",
    "$$\n",
    "w_i = \\left\\{ \\tfrac{h}{2}, h, h, \\ldots h, \\tfrac{h}{2} \\right\\}\n",
    "$$"
   ]
  },
  {
   "cell_type": "markdown",
   "metadata": {},
   "source": [
    "### Trapezoidal Rule\n",
    "<img alt='Trapezoidal Rule' src='figures/trapezoidal.png'>"
   ]
  },
  {
   "cell_type": "markdown",
   "metadata": {},
   "source": [
    "### Simpson's Rule\n",
    "* If $f(x)$ is taken to be a parabola between\\\\\n",
    " $x_i$ and $x_{i+2}$ (2 intervals!), then:\n",
    "$$\n",
    "\\int_{x_i}^{x_{i+2}} f(x) \\, \\mathrm{d}x \n",
    "\\simeq h \\left[\\tfrac{1}{3} \\, f(x_i) + \\tfrac{4}{3} \\, f(x_{i+1}) + \\tfrac{1}{3} \\, f(x_{i+2})\\right] \n",
    "$$\n",
    "is the area of a single parabola (spanning $2h$).\n",
    "* Add up the area of all the parabolas: \n",
    "$$\n",
    "\\int_a^b f(x) \\, \\mathrm{d}x \\simeq \\sum_{i=1}^{N} w_i \\, f(x_i)\n",
    "$$\n",
    "the weights are:\n",
    "$$\n",
    "w_i = \\left\\{ \\tfrac{h}{3}, 4\\tfrac{h}{3}, 2\\tfrac{h}{3}, 4\\tfrac{h}{3}, 2\\tfrac{h}{3}, \\ldots 4\\tfrac{h}{3}, \\tfrac{h}{3} \\right\\}\n",
    "$$\n",
    "* Since each parabola takes up two intervals, we must have an odd number of points (i.e. $N$ is odd)!"
   ]
  },
  {
   "cell_type": "markdown",
   "metadata": {},
   "source": [
    "### Simpson's Rule\n",
    "<img alt='Simpsons Rule' src='figures/Simpsons.png'>"
   ]
  },
  {
   "cell_type": "markdown",
   "metadata": {},
   "source": [
    "### Gaussian Quadrature\n",
    "\n",
    "* Begin with the same form:\n",
    "$$\n",
    "\\int_a^b f(x) \\, \\mathrm{d}x \\simeq \\sum_{i=1}^{N} w_i \\, f(x_i)\n",
    "$$\n",
    "* But, now choose $w_i$ and $x_i$ (not equally spaced).\n",
    "\n",
    "* Exact if $f(x)$ is a $2N-1$ degree polynomial.\n",
    "\n",
    "* One approach (Gauss-Legendre):\n",
    "\n",
    "\n",
    "* $x_i$ is the $i^{th}$ root of $P_N(x)$, $P_N(x)$ is a Legendre polynomial scaled to the appropriate range.\n",
    "\n",
    "* $w_i$ given by:\n",
    "$$\n",
    "w_i = \\frac{2}{(1-x_i^2)[P^\\prime_N(x_i)]^2}\n",
    "$$\n",
    "\n",
    "* We will not write this kind of routine ourselves."
   ]
  },
  {
   "cell_type": "markdown",
   "metadata": {},
   "source": [
    "### Monte Carlo Integration\n",
    "\n",
    "* Try a different approach:\\\\\n",
    "The first mean value theorem for integration says:\n",
    "$$\n",
    "\\int_a^b f(x) \\, \\mathrm{d}x = (b-a) \\, \\langle f \\rangle\n",
    "$$\n",
    "where $\\langle f \\rangle$ is the mean value of $f(x)$ on $[a, b]$.\n",
    "* Then, all we have to do is evaluate $\\langle f \\rangle$.\n",
    "\n",
    "* How? Pick $N$ random values, $x_i$ in $[a, b]$. Then:\n",
    "$$\n",
    "\\langle f \\rangle \\simeq \\frac{1}{N} \\sum_{i=1}^{N} f(x_i)\n",
    "$$\n",
    "so\n",
    "$$\n",
    "\\int_a^b f(x) \\, \\mathrm{d}x \\simeq  \\frac{b-a}{N} \\sum_{i=1}^{N} f(x_i)\n",
    "$$"
   ]
  },
  {
   "cell_type": "markdown",
   "metadata": {},
   "source": [
    "### Monte Carlo Integration (continued)\n",
    "\n",
    "* Monte Carlo integration converges slowly.\n",
    "\n",
    "* But, it has some advantages:\n",
    "\n",
    "\n",
    "* In some cases it is much easier than other methods to implement.\n",
    "\n",
    "* In some cases, it is the only reasonable choice.\n",
    "\n",
    "\n",
    "* In 2-D problems, can use it to calculate areas:\n",
    "<img src='Monte Carlo' src='figures/monte_carlo.png'>\n",
    "\n",
    "* In $N$-D problems (with $N \\gg 1$), it can give a quick estimate of the result."
   ]
  },
  {
   "cell_type": "markdown",
   "metadata": {},
   "source": [
    "### SciPy Integration Routines\n",
    "The SciPy integration sub-package `scipy.integrate` provides several integration routines. An overview of the module is provided by the help command:\\\\\n",
    "`help(scipy.integrate)`\\\\\n",
    "\n",
    "Methods for Integrating Functions given function object:\n",
    "\n",
    "\n",
    "* `quad`: General purpose integration.\n",
    "\n",
    "* `dblquad`: General purpose double integration.\n",
    "\n",
    "* `tplquad`: General purpose triple integration.\n",
    "\n",
    "* `fixed_quad`: Integrate $f(x)$ using Gaussian quadrature of order $n$.\n",
    "\n",
    "* `quadrature`: Integrate with given tolerance using Gaussian quadrature.\n",
    "\n",
    "* `romberg`: Integrate $f$ using Romberg integration."
   ]
  },
  {
   "cell_type": "markdown",
   "metadata": {},
   "source": [
    "### SciPy Integration Example\n",
    "You should write your own integration routines for your assignment, but here is an example with SciPy functions for future reference:\n",
    "\n",
    "\n",
    "* Setup module and function to be integrated:\\\\\n",
    "`import scipy.integrate`\n",
    "`def f(x): return 2.0*x`\n",
    "\n",
    "* Integrate:\\\\\n",
    "`scipy.integrate.quad(f, 0.0, 3.0)`\n",
    "\n",
    "``Canned'' library routines are easy to use, but harder to tell what is going on in the calculation."
   ]
  },
  {
   "cell_type": "code",
   "execution_count": null,
   "metadata": {
    "collapsed": true
   },
   "outputs": [],
   "source": []
  }
 ],
 "metadata": {
  "kernelspec": {
   "display_name": "Python 3",
   "language": "python",
   "name": "python3"
  },
  "language_info": {
   "codemirror_mode": {
    "name": "ipython",
    "version": 3
   },
   "file_extension": ".py",
   "mimetype": "text/x-python",
   "name": "python",
   "nbconvert_exporter": "python",
   "pygments_lexer": "ipython3",
   "version": "3.4.3"
  }
 },
 "nbformat": 4,
 "nbformat_minor": 0
}
